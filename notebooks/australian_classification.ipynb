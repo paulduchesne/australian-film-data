{
 "cells": [
  {
   "cell_type": "code",
   "execution_count": 1,
   "metadata": {},
   "outputs": [],
   "source": [
    "# P3156"
   ]
  },
  {
   "cell_type": "code",
   "execution_count": 2,
   "metadata": {},
   "outputs": [
    {
     "name": "stdout",
     "output_type": "stream",
     "text": [
      "('General (G)', 'The content is very mild in impact')\n"
     ]
    }
   ],
   "source": [
    "import json\n",
    "import pathlib\n",
    "import pydash\n",
    "import requests\n",
    "import requests_html\n",
    "\n",
    "def pull_classification(link):\n",
    "\n",
    "    ''' Pull rating data. '''\n",
    "\n",
    "    headers = {'User-Agent': 'Mozilla/5.0 (Windows NT 10.0; Win64; x64; rv:82.0) Gecko/20100101 Firefox/82.0'} \n",
    "    r = requests.get(link, headers=headers).text\n",
    "\n",
    "    main = r.split('<div class=\"c-term--classification-marking--label__icon\">')[1].split('</div>')[0]\n",
    "    main = requests_html.HTML(html=main).find('img', first=True).attrs[\"alt\"]\n",
    "\n",
    "    qual = r.split('<div class=\"c-term--classification-marking--label__icon\">')[1].split('<p>')[0]\n",
    "    qual = requests_html.HTML(html=qual).text\n",
    "\n",
    "    return (main, qual)\n",
    "\n",
    "with open(pathlib.Path.cwd().parents[0] / 'directory.json') as direct:\n",
    "    direct = json.load(direct)\n",
    "\n",
    "for x in direct.keys():\n",
    "    oflc_link = 'https://www.classification.gov.au/'+pydash.get(direct, f'{x}.oflc')\n",
    "    rating = pull_classification(oflc_link)\n",
    "    print(rating)"
   ]
  }
 ],
 "metadata": {
  "interpreter": {
   "hash": "916dbcbb3f70747c44a77c7bcd40155683ae19c65e1c03b4aa3499c5328201f1"
  },
  "kernelspec": {
   "display_name": "Python 3.10.4 64-bit",
   "language": "python",
   "name": "python3"
  },
  "language_info": {
   "codemirror_mode": {
    "name": "ipython",
    "version": 3
   },
   "file_extension": ".py",
   "mimetype": "text/x-python",
   "name": "python",
   "nbconvert_exporter": "python",
   "pygments_lexer": "ipython3",
   "version": "3.10.4"
  },
  "orig_nbformat": 4
 },
 "nbformat": 4,
 "nbformat_minor": 2
}

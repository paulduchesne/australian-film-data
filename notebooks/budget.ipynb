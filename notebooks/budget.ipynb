{
 "cells": [
  {
   "cell_type": "code",
   "execution_count": 1,
   "metadata": {},
   "outputs": [],
   "source": [
    "# P2769"
   ]
  },
  {
   "cell_type": "code",
   "execution_count": 3,
   "metadata": {},
   "outputs": [
    {
     "name": "stdout",
     "output_type": "stream",
     "text": [
      "Q1421747 P2769 450000\n",
      "Q12126942 P2769 3000000\n"
     ]
    }
   ],
   "source": [
    "import json\n",
    "import pathlib\n",
    "import pydash\n",
    "import requests\n",
    "import time\n",
    "\n",
    "def extract_budget(text):\n",
    "\n",
    "    ''' Test text parser to extract budget. Assumes first figure listed as correct. '''\n",
    "\n",
    "    time.sleep(4)\n",
    "\n",
    "    if '<em>Budget:</em>' in text:\n",
    "        text = text.split('<em>Budget:</em>')[1].split('<p><span><em>')[0]\n",
    "        text = text.replace(',','').replace(' million', '000000')\n",
    "        if '$' in text:\n",
    "            amount = text.split('$')[1].split(' ')[0]\n",
    "            return amount\n",
    "\n",
    "with open(pathlib.Path.cwd().parents[0] / 'directory.json') as direct:\n",
    "    direct = json.load(direct)\n",
    "\n",
    "for x in direct.keys():\n",
    "    ozmovies_link = 'https://www.ozmovies.com.au/'+pydash.get(direct, f'{x}.ozmovies')\n",
    "    amount = extract_budget(requests.get(ozmovies_link).text)\n",
    "    if amount:\n",
    "        print(x, 'P2769', amount)"
   ]
  },
  {
   "cell_type": "code",
   "execution_count": null,
   "metadata": {},
   "outputs": [],
   "source": [
    "# look to regex for better string parsing - eg the 3.9 million for He Died With A Felafel is currently being lost."
   ]
  }
 ],
 "metadata": {
  "interpreter": {
   "hash": "916dbcbb3f70747c44a77c7bcd40155683ae19c65e1c03b4aa3499c5328201f1"
  },
  "kernelspec": {
   "display_name": "Python 3.10.4 64-bit",
   "language": "python",
   "name": "python3"
  },
  "language_info": {
   "codemirror_mode": {
    "name": "ipython",
    "version": 3
   },
   "file_extension": ".py",
   "mimetype": "text/x-python",
   "name": "python",
   "nbconvert_exporter": "python",
   "pygments_lexer": "ipython3",
   "version": "3.10.4"
  },
  "orig_nbformat": 4
 },
 "nbformat": 4,
 "nbformat_minor": 2
}

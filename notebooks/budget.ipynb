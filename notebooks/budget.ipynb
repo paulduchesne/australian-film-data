{
 "cells": [
  {
   "cell_type": "code",
   "execution_count": 1,
   "metadata": {},
   "outputs": [],
   "source": [
    "# P2769"
   ]
  },
  {
   "cell_type": "code",
   "execution_count": 2,
   "metadata": {},
   "outputs": [
    {
     "name": "stdout",
     "output_type": "stream",
     "text": [
      "https://www.ozmovies.com.au/movie/picnic-at-hanging-rock\n"
     ]
    }
   ],
   "source": [
    "import json\n",
    "import pathlib\n",
    "import pydash\n",
    "\n",
    "with open(pathlib.Path.cwd().parents[0] / 'directory.json') as direct:\n",
    "    direct = json.load(direct)\n",
    "\n",
    "for x in direct.keys():\n",
    "    ozmovies_link = 'https://www.ozmovies.com.au/'+pydash.get(direct, f'{x}.ozmovies')\n",
    "    print(ozmovies_link)"
   ]
  }
 ],
 "metadata": {
  "interpreter": {
   "hash": "916dbcbb3f70747c44a77c7bcd40155683ae19c65e1c03b4aa3499c5328201f1"
  },
  "kernelspec": {
   "display_name": "Python 3.10.4 64-bit",
   "language": "python",
   "name": "python3"
  },
  "language_info": {
   "codemirror_mode": {
    "name": "ipython",
    "version": 3
   },
   "file_extension": ".py",
   "mimetype": "text/x-python",
   "name": "python",
   "nbconvert_exporter": "python",
   "pygments_lexer": "ipython3",
   "version": "3.10.4"
  },
  "orig_nbformat": 4
 },
 "nbformat": 4,
 "nbformat_minor": 2
}

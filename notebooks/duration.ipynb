{
 "cells": [
  {
   "cell_type": "code",
   "execution_count": 1,
   "metadata": {},
   "outputs": [],
   "source": [
    "# P2047"
   ]
  },
  {
   "cell_type": "code",
   "execution_count": 2,
   "metadata": {},
   "outputs": [
    {
     "name": "stdout",
     "output_type": "stream",
     "text": [
      "Q1421747 P2047 118\n",
      "Q12126942 P2047 97\n",
      "Q3415693 P2047 107\n"
     ]
    }
   ],
   "source": [
    "import json\n",
    "import pathlib\n",
    "import pydash\n",
    "import requests\n",
    "import time\n",
    "\n",
    "def pull_duration(link):\n",
    "\n",
    "    ''' Pull duration data from OFLC. '''\n",
    "\n",
    "    time.sleep(4)\n",
    "    \n",
    "    headers = {'User-Agent': 'Mozilla/5.0 (Windows NT 10.0; Win64; x64; rv:82.0) Gecko/20100101 Firefox/82.0'} \n",
    "    r = requests.get(link, headers=headers).text\n",
    "    duration = r.split('<div class=\"field__label\">Duration</div>')[1].split('</div>')[0]\n",
    "    duration = duration.replace('<div class=\"field__item\">','').replace('minutes','').strip()\n",
    "    return duration\n",
    "\n",
    "with open(pathlib.Path.cwd().parents[0] / 'directory.json') as direct:\n",
    "    direct = json.load(direct)\n",
    "\n",
    "for x in direct.keys():\n",
    "    if pydash.get(direct, f'{x}.oflc'):\n",
    "        oflc_link = 'https://www.classification.gov.au/'+pydash.get(direct, f'{x}.oflc')\n",
    "        duration = pull_duration(oflc_link)\n",
    "        print(x, 'P2047', duration)"
   ]
  }
 ],
 "metadata": {
  "interpreter": {
   "hash": "916dbcbb3f70747c44a77c7bcd40155683ae19c65e1c03b4aa3499c5328201f1"
  },
  "kernelspec": {
   "display_name": "Python 3.10.4 64-bit",
   "language": "python",
   "name": "python3"
  },
  "language_info": {
   "codemirror_mode": {
    "name": "ipython",
    "version": 3
   },
   "file_extension": ".py",
   "mimetype": "text/x-python",
   "name": "python",
   "nbconvert_exporter": "python",
   "pygments_lexer": "ipython3",
   "version": "3.10.4"
  },
  "orig_nbformat": 4
 },
 "nbformat": 4,
 "nbformat_minor": 2
}

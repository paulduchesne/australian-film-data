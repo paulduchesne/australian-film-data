{
 "cells": [
  {
   "cell_type": "code",
   "execution_count": 1,
   "metadata": {},
   "outputs": [],
   "source": [
    "# P2047"
   ]
  },
  {
   "cell_type": "code",
   "execution_count": 33,
   "metadata": {},
   "outputs": [
    {
     "name": "stderr",
     "output_type": "stream",
     "text": [
      "MediaWiki login warnings messages:\n",
      "* main: Subscribe to the mediawiki-api-announce mailing list at <https://lists.wikimedia.org/postorius/lists/mediawiki-api-announce.lists.wikimedia.org/> for notice of API deprecations and breaking changes. Use [[Special:ApiFeatureUsage]] to see usage of deprecated features by your application.\n",
      "* login: Main-account login via \"action=login\" is deprecated and may stop working without warning. To continue login with \"action=login\", see [[Special:BotPasswords]]. To safely continue using main-account login, see \"action=clientlogin\".\n"
     ]
    },
    {
     "name": "stdout",
     "output_type": "stream",
     "text": [
      "Q1421747 P2047 118\n",
      "Q12126942 P2047 97\n",
      "Q3415693 P2047 107\n",
      "all done.\n"
     ]
    }
   ],
   "source": [
    "import json\n",
    "import pathlib\n",
    "import pydash\n",
    "import requests\n",
    "import time\n",
    "from wikibaseintegrator import WikibaseIntegrator, wbi_login, datatypes\n",
    "from wikibaseintegrator.models import Claims, Qualifiers, References, Reference\n",
    "from wikibaseintegrator.wbi_config import config\n",
    "\n",
    "def pull_duration(link):\n",
    "\n",
    "    ''' Pull duration data from OFLC. '''\n",
    "\n",
    "    time.sleep(4)\n",
    "    \n",
    "    headers = {'User-Agent': 'Mozilla/5.0 (Windows NT 10.0; Win64; x64; rv:82.0) Gecko/20100101 Firefox/82.0'} \n",
    "    r = requests.get(link, headers=headers).text\n",
    "    duration = r.split('<div class=\"field__label\">Duration</div>')[1].split('</div>')[0]\n",
    "    duration = duration.replace('<div class=\"field__item\">','').replace('minutes','').strip()\n",
    "    return duration\n",
    "\n",
    "def write_duration(item, dur, ref, log):\n",
    "\n",
    "    ''' Write duration data to Wikidata. '''\n",
    "\n",
    "    references = References()\n",
    "    reference1 = Reference()\n",
    "    reference1.add(datatypes.URL(prop_nr='P854', value=ref))\n",
    "    references.add(reference1)\n",
    "\n",
    "    wbi = WikibaseIntegrator(login=login_wikidata)\n",
    "    wd_item = wbi.item.get(item, mediawiki_api_url='https://www.wikidata.org/w/api.php', login=log)\n",
    "    claim = datatypes.Quantity(prop_nr='P2047', amount=dur, unit='Q7727', references=references)    \n",
    "    wd_item.claims.add(claim)\n",
    "    wd_item.write()\n",
    "\n",
    "\n",
    "with open(pathlib.Path.cwd().parents[0] / 'directory.json') as direct:\n",
    "    direct = json.load(direct)\n",
    "\n",
    "with open(pathlib.Path.home() / 'wikidata_login.json') as wd_cred:\n",
    "    wd_cred = json.load(wd_cred)\n",
    "\n",
    "login_wikidata = wbi_login.Login(user=wd_cred['username'], password=wd_cred['password'], mediawiki_api_url='https://www.wikidata.org/w/api.php')\n",
    "\n",
    "for x in direct.keys():\n",
    "    if pydash.get(direct, f'{x}.oflc'):\n",
    "        oflc_link = 'https://www.classification.gov.au/'+pydash.get(direct, f'{x}.oflc')\n",
    "        duration = pull_duration(oflc_link)\n",
    "        print(x, 'P2047', duration)\n",
    "        write_duration(x, duration, oflc_link, login_wikidata)\n",
    "\n",
    "print('all done.')"
   ]
  }
 ],
 "metadata": {
  "interpreter": {
   "hash": "916dbcbb3f70747c44a77c7bcd40155683ae19c65e1c03b4aa3499c5328201f1"
  },
  "kernelspec": {
   "display_name": "Python 3.10.4 64-bit",
   "language": "python",
   "name": "python3"
  },
  "language_info": {
   "codemirror_mode": {
    "name": "ipython",
    "version": 3
   },
   "file_extension": ".py",
   "mimetype": "text/x-python",
   "name": "python",
   "nbconvert_exporter": "python",
   "pygments_lexer": "ipython3",
   "version": "3.10.4"
  },
  "orig_nbformat": 4
 },
 "nbformat": 4,
 "nbformat_minor": 2
}

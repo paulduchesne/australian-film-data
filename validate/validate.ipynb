{
 "cells": [
  {
   "cell_type": "code",
   "execution_count": 1,
   "metadata": {},
   "outputs": [
    {
     "name": "stderr",
     "output_type": "stream",
     "text": [
      "100%|██████████| 593/593 [11:16<00:00,  1.14s/it]\n"
     ]
    }
   ],
   "source": [
    "# validate that all of these entities have P495 \"country of origin\" Q408 \"australia\"\n",
    "# this is important as it is a filter on the focus tool\n",
    "\n",
    "import json\n",
    "import pydash\n",
    "import rdflib\n",
    "import requests\n",
    "import tqdm\n",
    "\n",
    "data = requests.get('https://raw.githubusercontent.com/paulduchesne/australian-filmography/main/entities.json')\n",
    "\n",
    "data = pydash.get(json.loads(data.text), 'entities')\n",
    "data = [x['wikidata'] for x in data]\n",
    "\n",
    "for x in tqdm.tqdm(data):\n",
    "    graph = rdflib.Graph()\n",
    "    graph.parse(f'https://www.wikidata.org/wiki/Special:EntityData/{x}.ttl')\n",
    "\n",
    "    country_origin = rdflib.URIRef('http://www.wikidata.org/prop/direct/P495')\n",
    "    australia = rdflib.URIRef('http://www.wikidata.org/entity/Q408') \n",
    "    australia_origin = [s for s,p,o in graph.triples((None, country_origin, australia))]\n",
    "\n",
    "    if not len(australia_origin):\n",
    "        raise Exception(x, 'not listed as Country of Origin -> Australia')"
   ]
  }
 ],
 "metadata": {
  "interpreter": {
   "hash": "916dbcbb3f70747c44a77c7bcd40155683ae19c65e1c03b4aa3499c5328201f1"
  },
  "kernelspec": {
   "display_name": "Python 3.10.4 64-bit",
   "language": "python",
   "name": "python3"
  },
  "language_info": {
   "codemirror_mode": {
    "name": "ipython",
    "version": 3
   },
   "file_extension": ".py",
   "mimetype": "text/x-python",
   "name": "python",
   "nbconvert_exporter": "python",
   "pygments_lexer": "ipython3",
   "version": "3.10.4"
  },
  "orig_nbformat": 4
 },
 "nbformat": 4,
 "nbformat_minor": 2
}
